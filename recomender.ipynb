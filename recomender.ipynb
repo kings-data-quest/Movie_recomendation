{
 "cells": [
  {
   "cell_type": "code",
   "execution_count": 1,
   "id": "ada085eb-386d-4a28-9ac0-a283cc10e0d5",
   "metadata": {},
   "outputs": [],
   "source": [
    "import pandas as pd\n",
    "import imdb\n",
    "import requests\n",
    "from bs4 import BeautifulSoup\n",
    "from tqdm import tqdm\n",
    "import re\n",
    "import urllib.request\n",
    "from twilio.rest import Client\n",
    "from tabulate import tabulate"
   ]
  },
  {
   "cell_type": "code",
   "execution_count": 2,
   "id": "2a890ba6-1d7b-4610-ac5d-3ff68fd80813",
   "metadata": {},
   "outputs": [],
   "source": [
    "ia = imdb.IMDb()"
   ]
  },
  {
   "cell_type": "code",
   "execution_count": 16,
   "id": "3ca490ed-1ba3-43a8-88cd-aeff81529415",
   "metadata": {},
   "outputs": [],
   "source": [
    "# Set up your Twilio account\n",
    "account_sid = 'ACcf747aac8a00c40c4337cd9811840373'\n",
    "auth_token = 'a18fe1fbf64e8ad2ed1072c2b42d8cd0'\n",
    "client = Client(account_sid, auth_token)"
   ]
  },
  {
   "cell_type": "code",
   "execution_count": 4,
   "id": "a365d5aa-2785-4803-be2e-2affb87d939f",
   "metadata": {},
   "outputs": [],
   "source": [
    "movies = pd.read_csv('Movies.csv' )"
   ]
  },
  {
   "cell_type": "code",
   "execution_count": 5,
   "id": "04d1a474-77fd-46b3-b784-95b27a3bbab3",
   "metadata": {
    "tags": []
   },
   "outputs": [
    {
     "name": "stdout",
     "output_type": "stream",
     "text": [
      "1 completed\n"
     ]
    }
   ],
   "source": [
    "page = 1\n",
    "movies_list = []\n",
    "\n",
    "\n",
    "while True:\n",
    "\n",
    "    \n",
    "    url = 'https://nzdworld.com/category/movies/'\n",
    "    \n",
    "    response = requests.get(url)\n",
    "\n",
    "      # Check if the response status code is not 200\n",
    "    if response.status_code != 200:\n",
    "        print(f'Response status code: {response.status_code}. Breaking out of loop.')\n",
    "        break\n",
    "        \n",
    "    # Make the request to the website and parse the HTML\n",
    "    response = requests.get(url)\n",
    "    soup = BeautifulSoup(response.text, 'html.parser')   \n",
    "    \n",
    "        \n",
    "    # Find all <h3> tags with class \"g1-gamma g1-gamma-1st entry-title\"\n",
    "    h3_tags = soup.select('.entry-title')\n",
    "\n",
    "    # Create an empty list to store the movie names and release dates\n",
    "\n",
    "    # Loop through the <h3> tags and extract the nested <a> tag\n",
    "    for h3_tag in h3_tags:\n",
    "        a_tag = h3_tag.find('a')\n",
    "        href = a_tag['href']\n",
    "        text = a_tag.text\n",
    "        if 'MOVIE' in text:  # Filter out TV series\n",
    "            movie_text = text.split(':')[-1].strip()  # Extract movie name\n",
    "            movie_name = movie_text.rsplit('(', 1)[0].strip()  # Remove release date from movie name\n",
    "            release_date = movie_text.rsplit('(', 1)[1].replace(')', '')  # Extract release date\n",
    "\n",
    "            response = requests.get(str(href))\n",
    "            soup = BeautifulSoup(response.content, 'html.parser')\n",
    "            a_tag = soup.find('a', text='DOWNLOAD MOVIE')\n",
    "            link = a_tag.get('href')\n",
    "\n",
    "            # Getting movie rating\n",
    "            search_results = ia.search_movie(str(movie_name))\n",
    "            # Get the first search result (assuming it's the correct movie)\n",
    "            movie_id = search_results[0].getID()\n",
    "\n",
    "            # Get the movie details using the ID\n",
    "            movie = ia.get_movie(movie_id)\n",
    "\n",
    "            # Get the movie rating\n",
    "            rating = movie.get('rating')\n",
    "\n",
    "            movies_list.append([movie_name, release_date, rating,  link])\n",
    "            \n",
    "    \n",
    "    print(f'{page} completed')\n",
    "    page += 1\n",
    "    break\n",
    "    # Show progress bar\n",
    "#     progress = tqdm(total=100)\n",
    "#     progress.update(page*10)  # Update the progress bar by 10% for every page\n",
    "#     progress.close()"
   ]
  },
  {
   "cell_type": "code",
   "execution_count": 6,
   "id": "d5fd061d-700f-441a-b9dd-ce0f7166bdb0",
   "metadata": {
    "tags": []
   },
   "outputs": [],
   "source": [
    "movies_df = pd.DataFrame(movies_list, columns=['Movie Name', 'Release Date', 'Rating', 'Link'])  \n",
    "\n",
    "old_movie_names = list(movies['Movie Name'])\n",
    "\n",
    "# Next, create a list of movie names that are present in the new DataFrame but not in the old DataFrame\n",
    "new_movie_names = list(set(movies_df['Movie Name']) - set(old_movie_names))\n",
    "\n",
    "# Create a new DataFrame for the new movies\n",
    "df_new_movies = movies_df[movies_df['Movie Name'].isin(new_movie_names)]\n",
    "\n",
    "\n",
    "df = pd.concat([movies, movies_df])\n",
    "df.drop_duplicates(subset=['Movie Name'], keep='first', inplace=True)\n",
    "df.to_csv('Movies.csv', index = False)"
   ]
  },
  {
   "cell_type": "code",
   "execution_count": 9,
   "id": "8acc99a9-e596-4fce-b988-9d804f5e0022",
   "metadata": {},
   "outputs": [],
   "source": [
    "df_top5 = df_new_movies.sort_values(['Rating'], ascending = False).head(5)"
   ]
  },
  {
   "cell_type": "code",
   "execution_count": 18,
   "id": "cbae1576-b9d8-4822-8b6e-8be38146aa5b",
   "metadata": {},
   "outputs": [
    {
     "name": "stdout",
     "output_type": "stream",
     "text": [
      "Message sent: SM6803534893fb693ca06e15c4cbcc7591\n"
     ]
    }
   ],
   "source": [
    "# Convert DataFrame to a list of lists\n",
    "movies_list = df_top5[['Movie Name', 'Rating', 'Link']].values.tolist()\n",
    "\n",
    "# Format the list of lists using tabulate\n",
    "movies_text = tabulate(movies_list, headers=['Movie Name', 'Rating', 'Link'])\n",
    "\n",
    "# Send message via Twilio WhatsApp\n",
    "message = client.messages.create(\n",
    "    body=movies_text,\n",
    "    from_='whatsapp:+14155238886',  # Twilio WhatsApp number\n",
    "    to='whatsapp:+2349012389795'\n",
    ")\n",
    "\n",
    "print('Message sent:', message.sid)\n"
   ]
  },
  {
   "cell_type": "code",
   "execution_count": 12,
   "id": "d5a128c4-bd09-4d0a-9a78-aa00d45baf27",
   "metadata": {},
   "outputs": [
    {
     "data": {
      "text/html": [
       "<div>\n",
       "<style scoped>\n",
       "    .dataframe tbody tr th:only-of-type {\n",
       "        vertical-align: middle;\n",
       "    }\n",
       "\n",
       "    .dataframe tbody tr th {\n",
       "        vertical-align: top;\n",
       "    }\n",
       "\n",
       "    .dataframe thead th {\n",
       "        text-align: right;\n",
       "    }\n",
       "</style>\n",
       "<table border=\"1\" class=\"dataframe\">\n",
       "  <thead>\n",
       "    <tr style=\"text-align: right;\">\n",
       "      <th></th>\n",
       "      <th>Movie Name</th>\n",
       "      <th>Release Date</th>\n",
       "      <th>Rating</th>\n",
       "      <th>Link</th>\n",
       "    </tr>\n",
       "  </thead>\n",
       "  <tbody>\n",
       "    <tr>\n",
       "      <th>0</th>\n",
       "      <td>Rye Lane</td>\n",
       "      <td>2023</td>\n",
       "      <td>7.4</td>\n",
       "      <td>https://downloadwella.com/ortlaidsi4hw/Rye.Lan...</td>\n",
       "    </tr>\n",
       "    <tr>\n",
       "      <th>3</th>\n",
       "      <td>Over And Over Again</td>\n",
       "      <td>2022</td>\n",
       "      <td>NaN</td>\n",
       "      <td>https://loadedfiles.com/3b2ed3af8920f5a0</td>\n",
       "    </tr>\n",
       "  </tbody>\n",
       "</table>\n",
       "</div>"
      ],
      "text/plain": [
       "            Movie Name Release Date  Rating  \\\n",
       "0             Rye Lane         2023     7.4   \n",
       "3  Over And Over Again         2022     NaN   \n",
       "\n",
       "                                                Link  \n",
       "0  https://downloadwella.com/ortlaidsi4hw/Rye.Lan...  \n",
       "3           https://loadedfiles.com/3b2ed3af8920f5a0  "
      ]
     },
     "execution_count": 12,
     "metadata": {},
     "output_type": "execute_result"
    }
   ],
   "source": [
    "df_top5"
   ]
  },
  {
   "cell_type": "code",
   "execution_count": null,
   "id": "f4c05939-f0fd-46f5-9c1a-1f90b4f08b30",
   "metadata": {},
   "outputs": [],
   "source": []
  }
 ],
 "metadata": {
  "kernelspec": {
   "display_name": "Python 3 (ipykernel)",
   "language": "python",
   "name": "python3"
  },
  "language_info": {
   "codemirror_mode": {
    "name": "ipython",
    "version": 3
   },
   "file_extension": ".py",
   "mimetype": "text/x-python",
   "name": "python",
   "nbconvert_exporter": "python",
   "pygments_lexer": "ipython3",
   "version": "3.9.13"
  }
 },
 "nbformat": 4,
 "nbformat_minor": 5
}
